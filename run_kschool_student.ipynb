{
 "cells": [
  {
   "cell_type": "markdown",
   "metadata": {},
   "source": [
    "# Deep Reinforcement Learning using AlphaZero methodology\n",
    "\n",
    "Adapted from https://applied-data.science/blog/how-to-build-your-own-alphazero-ai-using-python-and-keras/"
   ]
  },
  {
   "cell_type": "code",
   "execution_count": 1,
   "metadata": {},
   "outputs": [
    {
     "name": "stdout",
     "output_type": "stream",
     "text": [
      "Populating the interactive namespace from numpy and matplotlib\n"
     ]
    }
   ],
   "source": [
    "%pylab inline"
   ]
  },
  {
   "cell_type": "markdown",
   "metadata": {},
   "source": [
    "Game will control all the mechanisms to play a game, and agent will emulate a player:"
   ]
  },
  {
   "cell_type": "code",
   "execution_count": 2,
   "metadata": {},
   "outputs": [],
   "source": [
    "from game import Game"
   ]
  },
  {
   "cell_type": "code",
   "execution_count": 3,
   "metadata": {},
   "outputs": [],
   "source": [
    "game = Game()"
   ]
  },
  {
   "cell_type": "code",
   "execution_count": 4,
   "metadata": {},
   "outputs": [],
   "source": [
    "state = game.gameState"
   ]
  },
  {
   "cell_type": "code",
   "execution_count": 6,
   "metadata": {},
   "outputs": [
    {
     "data": {
      "text/plain": [
       "1"
      ]
     },
     "execution_count": 6,
     "metadata": {},
     "output_type": "execute_result"
    }
   ],
   "source": [
    "game.currentPlayer"
   ]
  },
  {
   "cell_type": "code",
   "execution_count": 7,
   "metadata": {},
   "outputs": [
    {
     "data": {
      "text/plain": [
       "[35, 36, 37, 38, 39, 40, 41]"
      ]
     },
     "execution_count": 7,
     "metadata": {},
     "output_type": "execute_result"
    }
   ],
   "source": [
    "state.allowedActions"
   ]
  },
  {
   "cell_type": "markdown",
   "metadata": {},
   "source": [
    "To be able to display the board, we need to create a logger. Here we just print the board to the standard output, to get a graps of the current situation"
   ]
  },
  {
   "cell_type": "code",
   "execution_count": 8,
   "metadata": {},
   "outputs": [],
   "source": [
    "class mylogger:\n",
    "    def __init__():\n",
    "        pass\n",
    "    def info(log):\n",
    "        # log is a list of chars resembling the board\n",
    "        print(str(log) + \"\\n\")"
   ]
  },
  {
   "cell_type": "markdown",
   "metadata": {},
   "source": [
    "## Playing a first game by hand"
   ]
  },
  {
   "cell_type": "code",
   "execution_count": 9,
   "metadata": {},
   "outputs": [
    {
     "name": "stdout",
     "output_type": "stream",
     "text": [
      "['-', '-', '-', '-', '-', '-', '-']\n",
      "\n",
      "['-', '-', '-', '-', '-', '-', '-']\n",
      "\n",
      "['-', '-', '-', '-', '-', '-', '-']\n",
      "\n",
      "['-', '-', '-', '-', '-', '-', '-']\n",
      "\n",
      "['-', '-', '-', '-', '-', '-', '-']\n",
      "\n",
      "['-', '-', '-', '-', '-', '-', '-']\n",
      "\n",
      "--------------\n",
      "\n"
     ]
    }
   ],
   "source": [
    "# Let's play a game by hand\n",
    "state.render(mylogger)"
   ]
  },
  {
   "cell_type": "markdown",
   "metadata": {},
   "source": [
    "What can we do in the game?"
   ]
  },
  {
   "cell_type": "code",
   "execution_count": 10,
   "metadata": {},
   "outputs": [
    {
     "data": {
      "text/plain": [
       "[35, 36, 37, 38, 39, 40, 41]"
      ]
     },
     "execution_count": 10,
     "metadata": {},
     "output_type": "execute_result"
    }
   ],
   "source": [
    "state.allowedActions"
   ]
  },
  {
   "cell_type": "markdown",
   "metadata": {},
   "source": [
    "This is what the board looks like:"
   ]
  },
  {
   "cell_type": "code",
   "execution_count": 11,
   "metadata": {},
   "outputs": [
    {
     "name": "stdout",
     "output_type": "stream",
     "text": [
      "['-', '-', '-', '-', '-', '-', '-']\n",
      "\n",
      "['-', '-', '-', '-', '-', '-', '-']\n",
      "\n",
      "['-', '-', '-', '-', '-', '-', '-']\n",
      "\n",
      "['-', '-', '-', '-', '-', '-', '-']\n",
      "\n",
      "['-', '-', '-', '-', '-', '-', '-']\n",
      "\n",
      "['-', '-', '-', '-', '-', '-', '-']\n",
      "\n",
      "--------------\n",
      "\n"
     ]
    }
   ],
   "source": [
    "state.render(mylogger)"
   ]
  },
  {
   "cell_type": "markdown",
   "metadata": {},
   "source": [
    "So when we introduce a token by the top, it will fall to the bottom. At the bottom, we have the positions 35 to 41, so those are the only actions we can do now.\n",
    "\n",
    "For instance, let's put a token right in the middle, it will fall to the middle position at the bottom, that's position 38"
   ]
  },
  {
   "cell_type": "code",
   "execution_count": 19,
   "metadata": {},
   "outputs": [
    {
     "data": {
      "text/plain": [
       "(<game.GameState at 0x7fe6347417b8>, 0, 0, None)"
      ]
     },
     "execution_count": 19,
     "metadata": {},
     "output_type": "execute_result"
    }
   ],
   "source": [
    "game.step(25)"
   ]
  },
  {
   "cell_type": "code",
   "execution_count": 22,
   "metadata": {},
   "outputs": [
    {
     "name": "stdout",
     "output_type": "stream",
     "text": [
      "['-', '-', '-', '-', '-', '-', '-']\n",
      "\n",
      "['-', '-', '-', '-', '-', '-', '-']\n",
      "\n",
      "['-', '-', '-', '-', '-', '-', '-']\n",
      "\n",
      "['-', '-', '-', '-', 'O', '-', '-']\n",
      "\n",
      "['-', '-', '-', '-', '-', '-', '-']\n",
      "\n",
      "['-', '-', '-', 'X', '-', '-', '-']\n",
      "\n",
      "--------------\n",
      "\n"
     ]
    }
   ],
   "source": [
    "game.gameState.render(mylogger)"
   ]
  },
  {
   "cell_type": "code",
   "execution_count": 23,
   "metadata": {},
   "outputs": [],
   "source": [
    "state = game.reset()"
   ]
  },
  {
   "cell_type": "code",
   "execution_count": 24,
   "metadata": {},
   "outputs": [
    {
     "data": {
      "text/plain": [
       "(<game.GameState at 0x7fe63474efd0>, 0, 0, None)"
      ]
     },
     "execution_count": 24,
     "metadata": {},
     "output_type": "execute_result"
    }
   ],
   "source": [
    "game.step(38)"
   ]
  },
  {
   "cell_type": "code",
   "execution_count": 25,
   "metadata": {},
   "outputs": [
    {
     "name": "stdout",
     "output_type": "stream",
     "text": [
      "['-', '-', '-', '-', '-', '-', '-']\n",
      "\n",
      "['-', '-', '-', '-', '-', '-', '-']\n",
      "\n",
      "['-', '-', '-', '-', '-', '-', '-']\n",
      "\n",
      "['-', '-', '-', '-', '-', '-', '-']\n",
      "\n",
      "['-', '-', '-', '-', '-', '-', '-']\n",
      "\n",
      "['-', '-', '-', 'X', '-', '-', '-']\n",
      "\n",
      "--------------\n",
      "\n"
     ]
    }
   ],
   "source": [
    "game.gameState.render(mylogger)"
   ]
  },
  {
   "cell_type": "markdown",
   "metadata": {},
   "source": [
    "There are two players in this game, 1 and -1. The first player was 1, so the current player should be -1:"
   ]
  },
  {
   "cell_type": "code",
   "execution_count": 26,
   "metadata": {},
   "outputs": [
    {
     "data": {
      "text/plain": [
       "-1"
      ]
     },
     "execution_count": 26,
     "metadata": {},
     "output_type": "execute_result"
    }
   ],
   "source": [
    "game.currentPlayer"
   ]
  },
  {
   "cell_type": "markdown",
   "metadata": {},
   "source": [
    "Let's now see what this player can do:\n"
   ]
  },
  {
   "cell_type": "code",
   "execution_count": 27,
   "metadata": {},
   "outputs": [
    {
     "data": {
      "text/plain": [
       "[31, 35, 36, 37, 39, 40, 41]"
      ]
     },
     "execution_count": 27,
     "metadata": {},
     "output_type": "execute_result"
    }
   ],
   "source": [
    "game.gameState.allowedActions"
   ]
  },
  {
   "cell_type": "markdown",
   "metadata": {},
   "source": [
    "Because position 38 is taken, now the player -1 could put a token on top of it, that's it, position 31. Let's check it out:"
   ]
  },
  {
   "cell_type": "code",
   "execution_count": 28,
   "metadata": {},
   "outputs": [
    {
     "name": "stdout",
     "output_type": "stream",
     "text": [
      "['-', '-', '-', '-', '-', '-', '-']\n",
      "\n",
      "['-', '-', '-', '-', '-', '-', '-']\n",
      "\n",
      "['-', '-', '-', '-', '-', '-', '-']\n",
      "\n",
      "['-', '-', '-', '-', '-', '-', '-']\n",
      "\n",
      "['-', '-', '-', 'O', '-', '-', '-']\n",
      "\n",
      "['-', '-', '-', 'X', '-', '-', '-']\n",
      "\n",
      "--------------\n",
      "\n"
     ]
    }
   ],
   "source": [
    "game.step(31)\n",
    "game.gameState.render(mylogger)"
   ]
  },
  {
   "cell_type": "markdown",
   "metadata": {},
   "source": [
    "Who's the next player?"
   ]
  },
  {
   "cell_type": "code",
   "execution_count": 29,
   "metadata": {},
   "outputs": [
    {
     "data": {
      "text/plain": [
       "1"
      ]
     },
     "execution_count": 29,
     "metadata": {},
     "output_type": "execute_result"
    }
   ],
   "source": [
    "game.currentPlayer"
   ]
  },
  {
   "cell_type": "markdown",
   "metadata": {},
   "source": [
    "How is the game going?"
   ]
  },
  {
   "cell_type": "code",
   "execution_count": 30,
   "metadata": {},
   "outputs": [
    {
     "data": {
      "text/plain": [
       "(0, 0)"
      ]
     },
     "execution_count": 30,
     "metadata": {},
     "output_type": "execute_result"
    }
   ],
   "source": [
    "game.gameState.score"
   ]
  },
  {
   "cell_type": "code",
   "execution_count": 31,
   "metadata": {},
   "outputs": [
    {
     "data": {
      "text/plain": [
       "0"
      ]
     },
     "execution_count": 31,
     "metadata": {},
     "output_type": "execute_result"
    }
   ],
   "source": [
    "game.gameState.isEndGame"
   ]
  },
  {
   "cell_type": "markdown",
   "metadata": {},
   "source": [
    "Let's make player -1 win the game"
   ]
  },
  {
   "cell_type": "code",
   "execution_count": 32,
   "metadata": {},
   "outputs": [
    {
     "data": {
      "text/plain": [
       "1"
      ]
     },
     "execution_count": 32,
     "metadata": {},
     "output_type": "execute_result"
    }
   ],
   "source": [
    "game.currentPlayer"
   ]
  },
  {
   "cell_type": "code",
   "execution_count": 33,
   "metadata": {},
   "outputs": [
    {
     "data": {
      "text/plain": [
       "(<game.GameState at 0x7fe6347b22e8>, 0, 0, None)"
      ]
     },
     "execution_count": 33,
     "metadata": {},
     "output_type": "execute_result"
    }
   ],
   "source": [
    "game.step(35)\n",
    "game.step(24)\n",
    "game.step(36)\n",
    "game.step(17)"
   ]
  },
  {
   "cell_type": "code",
   "execution_count": 34,
   "metadata": {},
   "outputs": [
    {
     "name": "stdout",
     "output_type": "stream",
     "text": [
      "['-', '-', '-', '-', '-', '-', '-']\n",
      "\n",
      "['-', '-', '-', '-', '-', '-', '-']\n",
      "\n",
      "['-', '-', '-', 'O', '-', '-', '-']\n",
      "\n",
      "['-', '-', '-', 'O', '-', '-', '-']\n",
      "\n",
      "['-', '-', '-', 'O', '-', '-', '-']\n",
      "\n",
      "['X', 'X', '-', 'X', '-', '-', '-']\n",
      "\n",
      "--------------\n",
      "\n"
     ]
    }
   ],
   "source": [
    "game.gameState.render(mylogger)"
   ]
  },
  {
   "cell_type": "code",
   "execution_count": 35,
   "metadata": {},
   "outputs": [
    {
     "data": {
      "text/plain": [
       "1"
      ]
     },
     "execution_count": 35,
     "metadata": {},
     "output_type": "execute_result"
    }
   ],
   "source": [
    "game.currentPlayer"
   ]
  },
  {
   "cell_type": "markdown",
   "metadata": {},
   "source": [
    "The second element of the tuple is the value. The value 0 means that nothing has happened yet."
   ]
  },
  {
   "cell_type": "code",
   "execution_count": 36,
   "metadata": {},
   "outputs": [
    {
     "data": {
      "text/plain": [
       "(0, 0)"
      ]
     },
     "execution_count": 36,
     "metadata": {},
     "output_type": "execute_result"
    }
   ],
   "source": [
    "game.gameState.score"
   ]
  },
  {
   "cell_type": "markdown",
   "metadata": {},
   "source": [
    "If player 1 moves to position 37, then player 1 will win. But player 1 is dumb, so the next moves are:"
   ]
  },
  {
   "cell_type": "code",
   "execution_count": 37,
   "metadata": {},
   "outputs": [
    {
     "data": {
      "text/plain": [
       "(<game.GameState at 0x7fe634747c50>, 0, 0, None)"
      ]
     },
     "execution_count": 37,
     "metadata": {},
     "output_type": "execute_result"
    }
   ],
   "source": [
    "game.step(39)"
   ]
  },
  {
   "cell_type": "code",
   "execution_count": 38,
   "metadata": {},
   "outputs": [
    {
     "name": "stdout",
     "output_type": "stream",
     "text": [
      "['-', '-', '-', '-', '-', '-', '-']\n",
      "\n",
      "['-', '-', '-', '-', '-', '-', '-']\n",
      "\n",
      "['-', '-', '-', 'O', '-', '-', '-']\n",
      "\n",
      "['-', '-', '-', 'O', '-', '-', '-']\n",
      "\n",
      "['-', '-', '-', 'O', '-', '-', '-']\n",
      "\n",
      "['X', 'X', '-', 'X', 'X', '-', '-']\n",
      "\n",
      "--------------\n",
      "\n"
     ]
    }
   ],
   "source": [
    "game.gameState.render(mylogger)"
   ]
  },
  {
   "cell_type": "code",
   "execution_count": 39,
   "metadata": {},
   "outputs": [
    {
     "data": {
      "text/plain": [
       "-1"
      ]
     },
     "execution_count": 39,
     "metadata": {},
     "output_type": "execute_result"
    }
   ],
   "source": [
    "game.currentPlayer"
   ]
  },
  {
   "cell_type": "code",
   "execution_count": 40,
   "metadata": {},
   "outputs": [
    {
     "data": {
      "text/plain": [
       "[10, 28, 29, 32, 37, 40, 41]"
      ]
     },
     "execution_count": 40,
     "metadata": {},
     "output_type": "execute_result"
    }
   ],
   "source": [
    "game.gameState.allowedActions"
   ]
  },
  {
   "cell_type": "code",
   "execution_count": 41,
   "metadata": {},
   "outputs": [
    {
     "data": {
      "text/plain": [
       "(<game.GameState at 0x7fe6347cea20>, -1, 1, None)"
      ]
     },
     "execution_count": 41,
     "metadata": {},
     "output_type": "execute_result"
    }
   ],
   "source": [
    "game.step(10)"
   ]
  },
  {
   "cell_type": "code",
   "execution_count": 42,
   "metadata": {},
   "outputs": [
    {
     "name": "stdout",
     "output_type": "stream",
     "text": [
      "['-', '-', '-', '-', '-', '-', '-']\n",
      "\n",
      "['-', '-', '-', 'O', '-', '-', '-']\n",
      "\n",
      "['-', '-', '-', 'O', '-', '-', '-']\n",
      "\n",
      "['-', '-', '-', 'O', '-', '-', '-']\n",
      "\n",
      "['-', '-', '-', 'O', '-', '-', '-']\n",
      "\n",
      "['X', 'X', '-', 'X', 'X', '-', '-']\n",
      "\n",
      "--------------\n",
      "\n"
     ]
    }
   ],
   "source": [
    "game.gameState.render(mylogger)"
   ]
  },
  {
   "cell_type": "markdown",
   "metadata": {},
   "source": [
    "To see the score of the game, we have to check who is the current player:"
   ]
  },
  {
   "cell_type": "code",
   "execution_count": 44,
   "metadata": {},
   "outputs": [
    {
     "data": {
      "text/plain": [
       "(-1, 1)"
      ]
     },
     "execution_count": 44,
     "metadata": {},
     "output_type": "execute_result"
    }
   ],
   "source": [
    "game.gameState.score"
   ]
  },
  {
   "cell_type": "code",
   "execution_count": 45,
   "metadata": {},
   "outputs": [
    {
     "data": {
      "text/plain": [
       "1"
      ]
     },
     "execution_count": 45,
     "metadata": {},
     "output_type": "execute_result"
    }
   ],
   "source": [
    "game.currentPlayer"
   ]
  },
  {
   "cell_type": "markdown",
   "metadata": {},
   "source": [
    "And then get the first value of these tuple. The winner of the game is the multiplication of both values:"
   ]
  },
  {
   "cell_type": "code",
   "execution_count": 46,
   "metadata": {},
   "outputs": [
    {
     "data": {
      "text/plain": [
       "-1"
      ]
     },
     "execution_count": 46,
     "metadata": {},
     "output_type": "execute_result"
    }
   ],
   "source": [
    "game.gameState.score[0]*game.currentPlayer"
   ]
  },
  {
   "cell_type": "markdown",
   "metadata": {},
   "source": [
    "Let's keep playing. We need to clear the board to keep playing, because the game goal is to be the first to make a 4-connect. Once that's done, newer 4-connect will not contribute towards the score:"
   ]
  },
  {
   "cell_type": "code",
   "execution_count": 47,
   "metadata": {},
   "outputs": [
    {
     "data": {
      "text/plain": [
       "<game.GameState at 0x7fe634839e80>"
      ]
     },
     "execution_count": 47,
     "metadata": {},
     "output_type": "execute_result"
    }
   ],
   "source": [
    "game.reset()"
   ]
  },
  {
   "cell_type": "code",
   "execution_count": 48,
   "metadata": {},
   "outputs": [
    {
     "data": {
      "text/plain": [
       "(<game.GameState at 0x7fe6347cb9e8>, 0, 0, None)"
      ]
     },
     "execution_count": 48,
     "metadata": {},
     "output_type": "execute_result"
    }
   ],
   "source": [
    "game.step(38)\n",
    "game.step(31)\n",
    "game.step(35)\n",
    "game.step(24)\n",
    "game.step(36)\n",
    "game.step(17)"
   ]
  },
  {
   "cell_type": "code",
   "execution_count": 49,
   "metadata": {},
   "outputs": [
    {
     "name": "stdout",
     "output_type": "stream",
     "text": [
      "['-', '-', '-', '-', '-', '-', '-']\n",
      "\n",
      "['-', '-', '-', '-', '-', '-', '-']\n",
      "\n",
      "['-', '-', '-', 'O', '-', '-', '-']\n",
      "\n",
      "['-', '-', '-', 'O', '-', '-', '-']\n",
      "\n",
      "['-', '-', '-', 'O', '-', '-', '-']\n",
      "\n",
      "['X', 'X', '-', 'X', '-', '-', '-']\n",
      "\n",
      "--------------\n",
      "\n"
     ]
    }
   ],
   "source": [
    "game.gameState.render(mylogger)"
   ]
  },
  {
   "cell_type": "markdown",
   "metadata": {},
   "source": [
    "Now player 1 has learnt, and will do the right thing:"
   ]
  },
  {
   "cell_type": "code",
   "execution_count": 50,
   "metadata": {},
   "outputs": [
    {
     "data": {
      "text/plain": [
       "[10, 28, 29, 37, 39, 40, 41]"
      ]
     },
     "execution_count": 50,
     "metadata": {},
     "output_type": "execute_result"
    }
   ],
   "source": [
    "game.gameState.allowedActions"
   ]
  },
  {
   "cell_type": "code",
   "execution_count": 51,
   "metadata": {},
   "outputs": [
    {
     "data": {
      "text/plain": [
       "1"
      ]
     },
     "execution_count": 51,
     "metadata": {},
     "output_type": "execute_result"
    }
   ],
   "source": [
    "game.currentPlayer"
   ]
  },
  {
   "cell_type": "code",
   "execution_count": 52,
   "metadata": {},
   "outputs": [
    {
     "data": {
      "text/plain": [
       "(<game.GameState at 0x7fe63429f4e0>, -1, 1, None)"
      ]
     },
     "execution_count": 52,
     "metadata": {},
     "output_type": "execute_result"
    }
   ],
   "source": [
    "game.step(37)"
   ]
  },
  {
   "cell_type": "code",
   "execution_count": 54,
   "metadata": {},
   "outputs": [
    {
     "data": {
      "text/plain": [
       "(-1, 1)"
      ]
     },
     "execution_count": 54,
     "metadata": {},
     "output_type": "execute_result"
    }
   ],
   "source": [
    "game.gameState.score"
   ]
  },
  {
   "cell_type": "code",
   "execution_count": 55,
   "metadata": {},
   "outputs": [
    {
     "data": {
      "text/plain": [
       "1"
      ]
     },
     "execution_count": 55,
     "metadata": {},
     "output_type": "execute_result"
    }
   ],
   "source": [
    "game.currentPlayer*game.gameState.score[0]"
   ]
  },
  {
   "cell_type": "code",
   "execution_count": 56,
   "metadata": {},
   "outputs": [
    {
     "name": "stdout",
     "output_type": "stream",
     "text": [
      "['-', '-', '-', '-', '-', '-', '-']\n",
      "\n",
      "['-', '-', '-', '-', '-', '-', '-']\n",
      "\n",
      "['-', '-', '-', 'O', '-', '-', '-']\n",
      "\n",
      "['-', '-', '-', 'O', '-', '-', '-']\n",
      "\n",
      "['-', '-', '-', 'O', '-', '-', '-']\n",
      "\n",
      "['X', 'X', 'X', 'X', '-', '-', '-']\n",
      "\n",
      "--------------\n",
      "\n"
     ]
    }
   ],
   "source": [
    "game.gameState.render(mylogger)"
   ]
  },
  {
   "cell_type": "code",
   "execution_count": 57,
   "metadata": {},
   "outputs": [
    {
     "name": "stdout",
     "output_type": "stream",
     "text": [
      "And the winner is 1\n"
     ]
    }
   ],
   "source": [
    "print(\"And the winner is %d\" % (game.currentPlayer*game.gameState.score[0]))"
   ]
  },
  {
   "cell_type": "code",
   "execution_count": 58,
   "metadata": {},
   "outputs": [
    {
     "data": {
      "text/plain": [
       "1"
      ]
     },
     "execution_count": 58,
     "metadata": {},
     "output_type": "execute_result"
    }
   ],
   "source": [
    "game.gameState.isEndGame"
   ]
  },
  {
   "cell_type": "markdown",
   "metadata": {},
   "source": [
    "To detect that a game has finished, we can monitor the score, or the value returned by each step. When it is different to 0, that means that there has been a winning move."
   ]
  },
  {
   "cell_type": "markdown",
   "metadata": {},
   "source": [
    "## Playing the game with an agent"
   ]
  },
  {
   "cell_type": "markdown",
   "metadata": {},
   "source": [
    "To train a neural network using the results of our games, we need to use an agent. The agent needs to use an untrained neural network as input"
   ]
  },
  {
   "cell_type": "code",
   "execution_count": 59,
   "metadata": {},
   "outputs": [],
   "source": [
    "from agent import Agent"
   ]
  },
  {
   "cell_type": "code",
   "execution_count": 60,
   "metadata": {},
   "outputs": [
    {
     "data": {
      "text/plain": [
       "<game.GameState at 0x7fe5c900fcc0>"
      ]
     },
     "execution_count": 60,
     "metadata": {},
     "output_type": "execute_result"
    }
   ],
   "source": [
    "game.reset()"
   ]
  },
  {
   "cell_type": "markdown",
   "metadata": {},
   "source": [
    "For the neural network, we can use any Keras model. Here, we use a function from the game, that needs some configuration:"
   ]
  },
  {
   "cell_type": "code",
   "execution_count": 61,
   "metadata": {},
   "outputs": [
    {
     "name": "stderr",
     "output_type": "stream",
     "text": [
      "Using TensorFlow backend.\n"
     ]
    }
   ],
   "source": [
    "from model import Residual_CNN"
   ]
  },
  {
   "cell_type": "code",
   "execution_count": 62,
   "metadata": {},
   "outputs": [],
   "source": [
    "REG_CONST=0.0001\n",
    "LEARNING_RATE=0.1\n",
    "\n",
    "HIDDEN_CNN_LAYERS = [\n",
    "\t{'filters':75, 'kernel_size': (4,4)}\n",
    "\t , {'filters':75, 'kernel_size': (4,4)}\n",
    "\t , {'filters':75, 'kernel_size': (4,4)}\n",
    "\t , {'filters':75, 'kernel_size': (4,4)}\n",
    "\t , {'filters':75, 'kernel_size': (4,4)}\n",
    "\t , {'filters':75, 'kernel_size': (4,4)}\n",
    "\t]"
   ]
  },
  {
   "cell_type": "code",
   "execution_count": 63,
   "metadata": {},
   "outputs": [
    {
     "data": {
      "text/plain": [
       "(2, 6, 7)"
      ]
     },
     "execution_count": 63,
     "metadata": {},
     "output_type": "execute_result"
    }
   ],
   "source": [
    "game.input_shape"
   ]
  },
  {
   "cell_type": "code",
   "execution_count": 66,
   "metadata": {},
   "outputs": [
    {
     "data": {
      "text/plain": [
       "42"
      ]
     },
     "execution_count": 66,
     "metadata": {},
     "output_type": "execute_result"
    }
   ],
   "source": [
    "game.action_size"
   ]
  },
  {
   "cell_type": "code",
   "execution_count": 67,
   "metadata": {},
   "outputs": [
    {
     "name": "stdout",
     "output_type": "stream",
     "text": [
      "WARNING:tensorflow:From /home/ihr/DeepReinforcementLearning/loss.py:15: softmax_cross_entropy_with_logits (from tensorflow.python.ops.nn_ops) is deprecated and will be removed in a future version.\n",
      "Instructions for updating:\n",
      "\n",
      "Future major versions of TensorFlow will allow gradients to flow\n",
      "into the labels input on backprop by default.\n",
      "\n",
      "See `tf.nn.softmax_cross_entropy_with_logits_v2`.\n",
      "\n"
     ]
    }
   ],
   "source": [
    "# Create a neural network\n",
    "current_NN = Residual_CNN(REG_CONST, \n",
    "                          LEARNING_RATE,\n",
    "                          game.input_shape,\n",
    "                          game.action_size,\n",
    "                          HIDDEN_CNN_LAYERS\n",
    "                         )"
   ]
  },
  {
   "cell_type": "code",
   "execution_count": 68,
   "metadata": {},
   "outputs": [],
   "source": [
    "NUM_OF_SIMULATIONS = 3   # number of simulations the agent will attempt to search for the best next movement\n",
    "CPUCT = 1  # constant controlling the level of exploration"
   ]
  },
  {
   "cell_type": "code",
   "execution_count": 69,
   "metadata": {},
   "outputs": [
    {
     "data": {
      "text/plain": [
       "84"
      ]
     },
     "execution_count": 69,
     "metadata": {},
     "output_type": "execute_result"
    }
   ],
   "source": [
    "game.state_size"
   ]
  },
  {
   "cell_type": "code",
   "execution_count": 70,
   "metadata": {},
   "outputs": [
    {
     "data": {
      "text/plain": [
       "42"
      ]
     },
     "execution_count": 70,
     "metadata": {},
     "output_type": "execute_result"
    }
   ],
   "source": [
    "game.action_size"
   ]
  },
  {
   "cell_type": "code",
   "execution_count": 71,
   "metadata": {},
   "outputs": [],
   "source": [
    "# Create an agent\n",
    "agent = Agent(\"El Kasparov del Conecta-4\",\n",
    "              game.state_size,\n",
    "              game.action_size,\n",
    "              NUM_OF_SIMULATIONS,\n",
    "              CPUCT,\n",
    "              current_NN\n",
    "             )"
   ]
  },
  {
   "cell_type": "markdown",
   "metadata": {},
   "source": [
    "Let's start from a blank state"
   ]
  },
  {
   "cell_type": "code",
   "execution_count": 72,
   "metadata": {},
   "outputs": [],
   "source": [
    "state = game.reset()"
   ]
  },
  {
   "cell_type": "code",
   "execution_count": 73,
   "metadata": {},
   "outputs": [
    {
     "name": "stdout",
     "output_type": "stream",
     "text": [
      "['-', '-', '-', '-', '-', '-', '-']\n",
      "\n",
      "['-', '-', '-', '-', '-', '-', '-']\n",
      "\n",
      "['-', '-', '-', '-', '-', '-', '-']\n",
      "\n",
      "['-', '-', '-', '-', '-', '-', '-']\n",
      "\n",
      "['-', '-', '-', '-', '-', '-', '-']\n",
      "\n",
      "['-', '-', '-', '-', '-', '-', '-']\n",
      "\n",
      "--------------\n",
      "\n"
     ]
    }
   ],
   "source": [
    "state.render(mylogger)"
   ]
  },
  {
   "cell_type": "markdown",
   "metadata": {},
   "source": [
    "Now the agent will decide what to do next (using 1 for a deterministic move):"
   ]
  },
  {
   "cell_type": "code",
   "execution_count": 74,
   "metadata": {},
   "outputs": [],
   "source": [
    "next_action, probs, MCTS_value, NN_value = agent.act(state, 0)"
   ]
  },
  {
   "cell_type": "code",
   "execution_count": 75,
   "metadata": {},
   "outputs": [
    {
     "data": {
      "text/plain": [
       "37"
      ]
     },
     "execution_count": 75,
     "metadata": {},
     "output_type": "execute_result"
    }
   ],
   "source": [
    "next_action"
   ]
  },
  {
   "cell_type": "code",
   "execution_count": 76,
   "metadata": {},
   "outputs": [
    {
     "data": {
      "text/plain": [
       "array([0. , 0. , 0. , 0. , 0. , 0. , 0. , 0. , 0. , 0. , 0. , 0. , 0. ,\n",
       "       0. , 0. , 0. , 0. , 0. , 0. , 0. , 0. , 0. , 0. , 0. , 0. , 0. ,\n",
       "       0. , 0. , 0. , 0. , 0. , 0. , 0. , 0. , 0. , 0.5, 0. , 0.5, 0. ,\n",
       "       0. , 0. , 0. ])"
      ]
     },
     "execution_count": 76,
     "metadata": {},
     "output_type": "execute_result"
    }
   ],
   "source": [
    "probs"
   ]
  },
  {
   "cell_type": "markdown",
   "metadata": {},
   "source": [
    "Of all the positions in the board, `next_action` is the position with the maximum probability"
   ]
  },
  {
   "cell_type": "code",
   "execution_count": 77,
   "metadata": {},
   "outputs": [
    {
     "data": {
      "text/plain": [
       "35"
      ]
     },
     "execution_count": 77,
     "metadata": {},
     "output_type": "execute_result"
    }
   ],
   "source": [
    "np.argmax(probs)"
   ]
  },
  {
   "cell_type": "code",
   "execution_count": 78,
   "metadata": {},
   "outputs": [
    {
     "data": {
      "text/plain": [
       "array([-0.0543101], dtype=float32)"
      ]
     },
     "execution_count": 78,
     "metadata": {},
     "output_type": "execute_result"
    }
   ],
   "source": [
    "NN_value"
   ]
  },
  {
   "cell_type": "markdown",
   "metadata": {},
   "source": [
    "This is a vector with the probability of all the positions in the board. For instance, we can check that all positions with prob > 0 are in fact allowed actions:"
   ]
  },
  {
   "cell_type": "code",
   "execution_count": 79,
   "metadata": {},
   "outputs": [
    {
     "data": {
      "text/plain": [
       "(array([35, 37]),)"
      ]
     },
     "execution_count": 79,
     "metadata": {},
     "output_type": "execute_result"
    }
   ],
   "source": [
    "np.where(probs>0)"
   ]
  },
  {
   "cell_type": "code",
   "execution_count": 80,
   "metadata": {},
   "outputs": [
    {
     "data": {
      "text/plain": [
       "[35, 36, 37, 38, 39, 40, 41]"
      ]
     },
     "execution_count": 80,
     "metadata": {},
     "output_type": "execute_result"
    }
   ],
   "source": [
    "game.gameState.allowedActions"
   ]
  },
  {
   "cell_type": "markdown",
   "metadata": {},
   "source": [
    "In the `act` method, the second argument should be 0 for a deterministic movement, and 1 for a random movement:"
   ]
  },
  {
   "cell_type": "code",
   "execution_count": 81,
   "metadata": {},
   "outputs": [],
   "source": [
    "# Now it is the turn of the second player (who plays randomly)\n",
    "next_action, probs, MCTS_value, NN_value = agent.act(state, 1)"
   ]
  },
  {
   "cell_type": "code",
   "execution_count": 82,
   "metadata": {},
   "outputs": [
    {
     "data": {
      "text/plain": [
       "40"
      ]
     },
     "execution_count": 82,
     "metadata": {},
     "output_type": "execute_result"
    }
   ],
   "source": [
    "next_action"
   ]
  },
  {
   "cell_type": "code",
   "execution_count": 83,
   "metadata": {},
   "outputs": [
    {
     "data": {
      "text/plain": [
       "array([0. , 0. , 0. , 0. , 0. , 0. , 0. , 0. , 0. , 0. , 0. , 0. , 0. ,\n",
       "       0. , 0. , 0. , 0. , 0. , 0. , 0. , 0. , 0. , 0. , 0. , 0. , 0. ,\n",
       "       0. , 0. , 0. , 0. , 0. , 0. , 0. , 0. , 0. , 0.2, 0.2, 0.2, 0. ,\n",
       "       0.2, 0.2, 0. ])"
      ]
     },
     "execution_count": 83,
     "metadata": {},
     "output_type": "execute_result"
    }
   ],
   "source": [
    "probs"
   ]
  },
  {
   "cell_type": "code",
   "execution_count": 84,
   "metadata": {},
   "outputs": [
    {
     "data": {
      "text/plain": [
       "-0.01676665"
      ]
     },
     "execution_count": 84,
     "metadata": {},
     "output_type": "execute_result"
    }
   ],
   "source": [
    "MCTS_value"
   ]
  },
  {
   "cell_type": "code",
   "execution_count": 85,
   "metadata": {},
   "outputs": [
    {
     "data": {
      "text/plain": [
       "array([-0.01676665], dtype=float32)"
      ]
     },
     "execution_count": 85,
     "metadata": {},
     "output_type": "execute_result"
    }
   ],
   "source": [
    "NN_value"
   ]
  },
  {
   "cell_type": "code",
   "execution_count": null,
   "metadata": {},
   "outputs": [],
   "source": []
  },
  {
   "cell_type": "markdown",
   "metadata": {},
   "source": [
    "We can keep playing with this agent, that will try to find the best movements for the game:"
   ]
  },
  {
   "cell_type": "code",
   "execution_count": null,
   "metadata": {},
   "outputs": [],
   "source": []
  },
  {
   "cell_type": "code",
   "execution_count": null,
   "metadata": {},
   "outputs": [],
   "source": []
  },
  {
   "cell_type": "code",
   "execution_count": null,
   "metadata": {},
   "outputs": [],
   "source": []
  },
  {
   "cell_type": "markdown",
   "metadata": {},
   "source": [
    "## Exercise: a learning agent against a random player\n",
    "\n",
    "Now that you know how to run a learning agent in a game, write a function that given an agent returns the outcome of the game.\n",
    "\n",
    "Don't worry about keeping the memory of the positions. We just want the final outcome of the game, from the learning agent point of view: WIN, DRAW or LOSS.\n",
    "\n",
    "The game will be randomly started either by the random player or the neural network.\n",
    "\n",
    "We will later use this function to run several simulations.\n",
    "\n",
    "Use this logger to keep track of:\n",
    "* each new action suggested by the agent (both for the NN and for the random player)\n",
    "* value after each movement\n",
    "* a render of the board (you can use state.render(logger))\n",
    "* if the movement is done by the NN, the values of the MonteCarlo tree search, and the NN network\n",
    "* a big WARNING if the agent suggest a movement that is not allowed by the state of the board\n",
    "\n",
    "The function will return a tuple, with the result of the game, and the number of movements of the NN"
   ]
  },
  {
   "cell_type": "code",
   "execution_count": 86,
   "metadata": {},
   "outputs": [],
   "source": [
    "!mkdir -p logs/"
   ]
  },
  {
   "cell_type": "code",
   "execution_count": 87,
   "metadata": {},
   "outputs": [],
   "source": [
    "from utils import setup_logger\n",
    "\n",
    "logger_simgame = setup_logger('logger_simgame', 'logs/logger_simgame.log')"
   ]
  },
  {
   "cell_type": "code",
   "execution_count": 93,
   "metadata": {},
   "outputs": [],
   "source": [
    "# Student version cell\n",
    "def simgame(game, agent, logger):\n",
    "    \"\"\"Sim a game and return the outcome of the game. \n",
    "    \n",
    "    @param game a Game that will be played by the agent. This game will be reset\n",
    "    @param agent an Agent with an associated neural network\n",
    "    @param logger a logger to keep track of the internal statuses\n",
    "    @return a tuple with the result of the game and the number of movements of the NN\n",
    "    \"\"\"\n",
    "    logger.info(\"---------------------------------------\")\n",
    "    logger.info(\"NEW GAME\")\n",
    "    logger.info(\"---------------------------------------\")\n",
    "    \n",
    "    state = game.reset()\n",
    "    \n",
    "    # 0 -> the neural network starts\n",
    "    # 1 -> the random player starts\n",
    "    who_starts = random.choice([0,1])\n",
    "    \n",
    "    # Tau is the parameter that controls the act method, 0 is random, 1 is neural network\n",
    "    if who_starts == 0:\n",
    "        tau = 0  # NN starts\n",
    "        logger.info(\"Game started by neural network. NN will be the X\")\n",
    "        nn_symbol, rnd_symbol = \"X\", \"O\"\n",
    "    else:\n",
    "        tau = 1  # Random player starts\n",
    "        logger.info(\"Game started by random player. NN will be the O\")\n",
    "        nn_symbol, rnd_symbol = \"O\", \"X\"\n",
    "        \n",
    "    game_is_ended = False\n",
    "    winner = -2  # we init with an impossible value\n",
    "    nn_movements = 0\n",
    "\n",
    "    while not game_is_ended:\n",
    "\n",
    "        next_action, probs, MCTS_value, NN_value = agent.act(state, tau)\n",
    "        state, score, _0, _n = game.step(next_action)\n",
    "\n",
    "        \n",
    "        state.render(logger)\n",
    "        \n",
    "        game_is_ended = state.isEndGame == 1\n",
    "        \n",
    "        if tau == 0:\n",
    "            nn_movements +=1\n",
    "            logger.info(\"NN (%s) played, moved to %d\" % (nn_symbol, next_action))\n",
    "            tau = 1            \n",
    "        else:\n",
    "            tau = 0\n",
    "            logger.info(\"Random (%s) played, moved to %d\" % (rnd_symbol, next_action))\n",
    "\n",
    "        logger.info(\"Game score: %d     MCTS: %.4f          NN: %.4f\" % (score, MCTS_value, NN_value))\n",
    "        if game_is_ended:\n",
    "            # *** WHO HAS WON? WRITE YOUR CODE HERE ***\n",
    "            winner = game.currentPlayer*game.gameState.score[0]\n",
    "            # If random started, then the result of the game is the opposite\n",
    "            if who_starts == 1:\n",
    "                winner = winner*(-1)\n",
    "            if winner == 1:\n",
    "                logger.info(\" **** The NN has WON! :D ****\")\n",
    "            elif winner == 0:\n",
    "                logger.info(\" **** It is a DRAW :S ****\")\n",
    "            else:\n",
    "                logger.info(\" **** The NN has LOST :'( ****\")\n",
    "\n",
    "    return winner, nn_movements"
   ]
  },
  {
   "cell_type": "code",
   "execution_count": 96,
   "metadata": {},
   "outputs": [
    {
     "data": {
      "text/plain": [
       "(-1, 6)"
      ]
     },
     "execution_count": 96,
     "metadata": {},
     "output_type": "execute_result"
    }
   ],
   "source": [
    "simgame(game, agent, logger_simgame)"
   ]
  },
  {
   "cell_type": "markdown",
   "metadata": {},
   "source": [
    "### How does the agent learnt?\n",
    "\n",
    "Let's try several times, and plot some stats about the number of wins, and the distribution of the number of movements."
   ]
  },
  {
   "cell_type": "code",
   "execution_count": 97,
   "metadata": {},
   "outputs": [],
   "source": [
    "NUM_OF_SIMULATIONS = 10   # number of simulations of movements the agent will attempt to search for the best next movement\n",
    "CPUCT = 1  # constant controlling the level of exploration"
   ]
  },
  {
   "cell_type": "code",
   "execution_count": 98,
   "metadata": {},
   "outputs": [],
   "source": [
    "REG_CONST=0.0001\n",
    "LEARNING_RATE=0.1\n",
    "\n",
    "HIDDEN_CNN_LAYERS = [\n",
    "\t{'filters':75, 'kernel_size': (4,4)}\n",
    "\t , {'filters':75, 'kernel_size': (4,4)}\n",
    "\t , {'filters':75, 'kernel_size': (4,4)}\n",
    "\t , {'filters':75, 'kernel_size': (4,4)}\n",
    "\t , {'filters':75, 'kernel_size': (4,4)}\n",
    "\t , {'filters':75, 'kernel_size': (4,4)}\n",
    "\t]\n",
    "\n",
    "# Create a game and agent"
   ]
  },
  {
   "cell_type": "code",
   "execution_count": 101,
   "metadata": {},
   "outputs": [
    {
     "name": "stdout",
     "output_type": "stream",
     "text": [
      "10 games played, 5 won (50.00 %)\n",
      "20 games played, 12 won (60.00 %)\n",
      "30 games played, 17 won (56.67 %)\n",
      "40 games played, 24 won (60.00 %)\n",
      "50 games played, 31 won (62.00 %)\n",
      "60 games played, 37 won (61.67 %)\n",
      "70 games played, 42 won (60.00 %)\n",
      "80 games played, 47 won (58.75 %)\n",
      "90 games played, 51 won (56.67 %)\n",
      "100 games played, 58 won (58.00 %)\n"
     ]
    }
   ],
   "source": [
    "# Play N times, and keep track of the winning average of our agent\n",
    "N_GAMES=100\n",
    "\n",
    "n_wins = 0\n",
    "for k in range(N_GAMES):\n",
    "    score, nmovs = simgame(game, agent, logger_simgame)\n",
    "    if score == 1:\n",
    "        n_wins += 1\n",
    "    if (k+1)%10 == 0:\n",
    "        perc = n_wins/(k+1)*100\n",
    "        print(\"%d games played, %d won (%.2f %%)\" % (k+1, n_wins, perc))"
   ]
  },
  {
   "cell_type": "markdown",
   "metadata": {},
   "source": [
    "### Exercise: Learning from this experience\n",
    "\n",
    "So far, we are not learning from this experience. We are just playing with a neural network that is not trained.\n",
    "\n",
    "We can add the movements to a _memory_ and record the outcome of the game too, and then train the neural network with this experience."
   ]
  },
  {
   "cell_type": "code",
   "execution_count": 102,
   "metadata": {},
   "outputs": [],
   "source": [
    "from memory import Memory"
   ]
  },
  {
   "cell_type": "code",
   "execution_count": 103,
   "metadata": {},
   "outputs": [],
   "source": [
    "MEMORY_SIZE=30000"
   ]
  },
  {
   "cell_type": "markdown",
   "metadata": {},
   "source": [
    "This Memory object has two kind of memories:\n",
    "\n",
    "* Short term, with the set of movements of a game\n",
    "* Long term, with the full games and their outcomes. This long term memory is used to re-train the agent and gain experience in the game"
   ]
  },
  {
   "cell_type": "code",
   "execution_count": 116,
   "metadata": {},
   "outputs": [],
   "source": [
    "memory = Memory(MEMORY_SIZE)"
   ]
  },
  {
   "cell_type": "code",
   "execution_count": 105,
   "metadata": {},
   "outputs": [
    {
     "data": {
      "text/plain": [
       "<bound method Memory.commit_stmemory of <memory.Memory object at 0x7fe59c4e7c88>>"
      ]
     },
     "execution_count": 105,
     "metadata": {},
     "output_type": "execute_result"
    }
   ],
   "source": [
    "# This prepares the memory for a new game\n",
    "memory.clear_stmemory()\n",
    "# This adds a movement to the memory\n",
    "memory.commit_stmemory\n",
    "# This adds a game to the long term (training) memory"
   ]
  },
  {
   "cell_type": "code",
   "execution_count": 106,
   "metadata": {},
   "outputs": [],
   "source": [
    "?memory.commit_stmemory"
   ]
  },
  {
   "cell_type": "code",
   "execution_count": null,
   "metadata": {},
   "outputs": [],
   "source": [
    "        memory.commit_stmemory(game.identities, state, probs)"
   ]
  },
  {
   "cell_type": "code",
   "execution_count": 113,
   "metadata": {},
   "outputs": [],
   "source": [
    "def simgame(game, agent, logger, memory = None):\n",
    "    \"\"\"Sim a game and return the outcome of the game. \n",
    "    \n",
    "    @param game a Game that will be played by the agent. This game will be reset\n",
    "    @param agent an Agent with an associated neural network\n",
    "    @param logger a logger to keep track of the internal statuses\n",
    "    @param memory a Memory object to record all the movements and outcome of the game\n",
    "    @return a tuple with the result of the game, the number of movements of the NN and the updated memory\n",
    "    \"\"\"\n",
    "    logger.info(\"---------------------------------------\")\n",
    "    logger.info(\"NEW GAME\")\n",
    "    logger.info(\"---------------------------------------\")\n",
    "    \n",
    "    state = game.reset()\n",
    "    memory.clear_stmemory()\n",
    "    \n",
    "    # 0 -> the neural network starts\n",
    "    # 1 -> the random player starts\n",
    "    who_starts = random.choice([0,1])\n",
    "    \n",
    "    # Tau is the parameter that controls the act method, 0 is random, 1 is neural network\n",
    "    if who_starts == 0:\n",
    "        tau = 0  # NN starts\n",
    "        logger.info(\"Game started by neural network. NN will be the X\")\n",
    "        nn_symbol, rnd_symbol = \"X\", \"O\"\n",
    "    else:\n",
    "        tau = 1  # Random player starts\n",
    "        logger.info(\"Game started by random player. NN will be the O\")\n",
    "        nn_symbol, rnd_symbol = \"O\", \"X\"\n",
    "        \n",
    "    game_is_ended = False\n",
    "    winner = -2  # we init with an impossible value\n",
    "    nn_movements = 0\n",
    "\n",
    "    while not game_is_ended:\n",
    "\n",
    "        next_action, probs, MCTS_value, NN_value = agent.act(state, tau)\n",
    "        state, score, _0, _n = game.step(next_action)        \n",
    "        state.render(logger)\n",
    "        memory.commit_stmemory(game.identities, state, probs)\n",
    "        \n",
    "        game_is_ended = state.isEndGame == 1\n",
    "        \n",
    "        if tau == 0:\n",
    "            nn_movements +=1\n",
    "            logger.info(\"NN (%s) played, moved to %d\" % (nn_symbol, next_action))\n",
    "            tau = 1            \n",
    "        else:\n",
    "            tau = 0\n",
    "            logger.info(\"Random (%s) played, moved to %d\" % (rnd_symbol, next_action))\n",
    "\n",
    "        logger.info(\"Game score: %d     MCTS: %.4f          NN: %.4f\" % (score, MCTS_value, NN_value))\n",
    "        if game_is_ended:\n",
    "            winner = game.currentPlayer*game.gameState.score[0]\n",
    "            \n",
    "            for move in memory.stmemory:\n",
    "                if move['playerTurn'] == game.currentPlayer:\n",
    "                    move['value'] = -winner\n",
    "                else:\n",
    "                    move['value'] = winner\n",
    "                \n",
    "            memory.commit_ltmemory()\n",
    "            \n",
    "            # If random started, then the result of the game is the opposite\n",
    "            if who_starts == 1:\n",
    "                winner = winner*(-1)\n",
    "            if winner == 1:\n",
    "                logger.info(\" **** The NN has WON! :D ****\")\n",
    "            elif winner == 0:\n",
    "                logger.info(\" **** It is a DRAW :S ****\")\n",
    "            else:\n",
    "                logger.info(\" **** The NN has LOST :'( ****\")\n",
    "\n",
    "    return winner, nn_movements, memory"
   ]
  },
  {
   "cell_type": "code",
   "execution_count": 124,
   "metadata": {},
   "outputs": [
    {
     "data": {
      "image/png": "[encoded data removed]",
      "text/plain": [
       "<Figure size 432x288 with 1 Axes>"
      ]
     },
     "metadata": {},
     "output_type": "display_data"
    },
    {
     "name": "stdout",
     "output_type": "stream",
     "text": [
      "\n",
      "\n",
      "200 games played, 116 won (58.00 %)\n"
     ]
    },
    {
     "data": {
      "text/plain": [
       "<Figure size 432x288 with 0 Axes>"
      ]
     },
     "metadata": {},
     "output_type": "display_data"
    }
   ],
   "source": [
    "# Play N times, and keep track of the winning average of our agent\n",
    "N_GAMES=200\n",
    "\n",
    "n_wins = 0\n",
    "for k in range(N_GAMES):\n",
    "    score, nmovs, memory = simgame(game, agent, logger_simgame, memory)\n",
    "    if score == 1:\n",
    "        n_wins += 1\n",
    "    if (k+1)%10 == 0:\n",
    "        perc = n_wins/(k+1)*100\n",
    "        agent.replay(memory.ltmemory)\n",
    "        print(\"%d games played, %d won (%.2f %%)\" % (k+1, n_wins, perc))"
   ]
  },
  {
   "cell_type": "markdown",
   "metadata": {},
   "source": [
    "We can now make our agent learn from this experience:"
   ]
  },
  {
   "cell_type": "code",
   "execution_count": 122,
   "metadata": {},
   "outputs": [
    {
     "data": {
      "image/png": "[encoded data removed]",
      "text/plain": [
       "<Figure size 432x288 with 1 Axes>"
      ]
     },
     "metadata": {},
     "output_type": "display_data"
    },
    {
     "name": "stdout",
     "output_type": "stream",
     "text": [
      "\n",
      "\n"
     ]
    },
    {
     "data": {
      "text/plain": [
       "<Figure size 432x288 with 0 Axes>"
      ]
     },
     "metadata": {},
     "output_type": "display_data"
    }
   ],
   "source": [
    "# How can we learn from this experience?\n",
    "agent.replay(memory.ltmemory)"
   ]
  },
  {
   "cell_type": "code",
   "execution_count": 20,
   "metadata": {},
   "outputs": [],
   "source": [
    "# Play N times, and keep track of the winning average of our agent\n",
    "# Has the agent improved?"
   ]
  },
  {
   "cell_type": "code",
   "execution_count": 21,
   "metadata": {},
   "outputs": [],
   "source": [
    "# Can you retrain after every game? (or after every 5-10 games, to save some time)"
   ]
  },
  {
   "cell_type": "markdown",
   "metadata": {},
   "source": [
    "## Manually playing against the agent"
   ]
  },
  {
   "cell_type": "code",
   "execution_count": 134,
   "metadata": {},
   "outputs": [],
   "source": [
    "g = Game()"
   ]
  },
  {
   "cell_type": "code",
   "execution_count": 153,
   "metadata": {},
   "outputs": [
    {
     "name": "stdout",
     "output_type": "stream",
     "text": [
      "['-', '-', '-', '-', '-', '-', '-']\n",
      "\n",
      "['-', '-', '-', '-', '-', '-', '-']\n",
      "\n",
      "['-', '-', '-', '-', '-', '-', '-']\n",
      "\n",
      "['-', '-', '-', '-', '-', '-', '-']\n",
      "\n",
      "['-', '-', '-', 'X', '-', '-', '-']\n",
      "\n",
      "['-', '-', 'X', 'O', 'X', 'O', 'O']\n",
      "\n",
      "--------------\n",
      "\n"
     ]
    }
   ],
   "source": [
    "g.gameState.render(mylogger)"
   ]
  },
  {
   "cell_type": "code",
   "execution_count": 159,
   "metadata": {},
   "outputs": [
    {
     "data": {
      "text/plain": [
       "[23, 24, 29, 32, 33, 34, 35]"
      ]
     },
     "execution_count": 159,
     "metadata": {},
     "output_type": "execute_result"
    }
   ],
   "source": [
    "g.gameState.allowedActions"
   ]
  },
  {
   "cell_type": "code",
   "execution_count": 160,
   "metadata": {},
   "outputs": [
    {
     "data": {
      "text/plain": [
       "(<game.GameState at 0x7fe0d091dba8>, 0, 0, None)"
      ]
     },
     "execution_count": 160,
     "metadata": {},
     "output_type": "execute_result"
    }
   ],
   "source": [
    "g.step(23)"
   ]
  },
  {
   "cell_type": "code",
   "execution_count": 161,
   "metadata": {},
   "outputs": [
    {
     "name": "stdout",
     "output_type": "stream",
     "text": [
      "['-', '-', '-', '-', '-', '-', '-']\n",
      "\n",
      "['-', '-', '-', '-', '-', '-', '-']\n",
      "\n",
      "['-', '-', '-', '-', '-', '-', '-']\n",
      "\n",
      "['-', '-', 'X', '-', '-', '-', '-']\n",
      "\n",
      "['-', '-', 'X', 'X', '-', '-', '-']\n",
      "\n",
      "['-', 'O', 'X', 'O', 'X', 'O', 'O']\n",
      "\n",
      "--------------\n",
      "\n"
     ]
    }
   ],
   "source": [
    "g.gameState.render(mylogger)"
   ]
  },
  {
   "cell_type": "code",
   "execution_count": 162,
   "metadata": {},
   "outputs": [],
   "source": [
    "next_action, _p, _m, _v = agent.act(g.gameState, 0)"
   ]
  },
  {
   "cell_type": "code",
   "execution_count": 163,
   "metadata": {},
   "outputs": [
    {
     "data": {
      "text/plain": [
       "(<game.GameState at 0x7fe0d0890470>, 0, 0, None)"
      ]
     },
     "execution_count": 163,
     "metadata": {},
     "output_type": "execute_result"
    }
   ],
   "source": [
    "g.step(next_action)"
   ]
  },
  {
   "cell_type": "code",
   "execution_count": 164,
   "metadata": {},
   "outputs": [
    {
     "name": "stdout",
     "output_type": "stream",
     "text": [
      "['-', '-', '-', '-', '-', '-', '-']\n",
      "\n",
      "['-', '-', '-', '-', '-', '-', '-']\n",
      "\n",
      "['-', '-', '-', '-', '-', '-', '-']\n",
      "\n",
      "['-', '-', 'X', '-', '-', '-', '-']\n",
      "\n",
      "['-', '-', 'X', 'X', '-', '-', '-']\n",
      "\n",
      "['O', 'O', 'X', 'O', 'X', 'O', 'O']\n",
      "\n",
      "--------------\n",
      "\n"
     ]
    }
   ],
   "source": [
    "g.gameState.render(mylogger)"
   ]
  },
  {
   "cell_type": "markdown",
   "metadata": {},
   "source": [
    "## Exercise: Using a custom model\n",
    "\n",
    "The models that the agent trains are Keras models, created following the interface defined in model.Gen_Model\n",
    "\n",
    "Could you change the model and use a different architecture? For instance, a model with RNN that could try to learn from the sequences of movements?"
   ]
  },
  {
   "cell_type": "code",
   "execution_count": 202,
   "metadata": {},
   "outputs": [],
   "source": [
    "from importlib import reload\n",
    "import model\n",
    "reload(model)\n",
    "from model import KSchool_Model  # <--- This is your custom model in model.py\n"
   ]
  },
  {
   "cell_type": "code",
   "execution_count": 207,
   "metadata": {},
   "outputs": [],
   "source": [
    "# Create an agent with your network\n",
    "\n",
    "current_NN = KSchool_Model(REG_CONST, \n",
    "                           LEARNING_RATE, \n",
    "                           game.input_shape,\n",
    "                           game.action_size)\n",
    "\n",
    "# Create an agent\n",
    "agent = Agent(\"El Lee Sedol del Conecta-4\",\n",
    "              game.state_size,\n",
    "              game.action_size,\n",
    "              30,\n",
    "              CPUCT,\n",
    "              current_NN\n",
    "             )"
   ]
  },
  {
   "cell_type": "code",
   "execution_count": null,
   "metadata": {},
   "outputs": [
    {
     "data": {
      "image/png": "[encoded data removed]",
      "text/plain": [
       "<Figure size 432x288 with 1 Axes>"
      ]
     },
     "metadata": {},
     "output_type": "display_data"
    },
    {
     "name": "stdout",
     "output_type": "stream",
     "text": [
      "\n",
      "\n",
      "70 games played, 51 won (72.86 %)\n"
     ]
    }
   ],
   "source": [
    "# Play N times, and keep track of the winning average of our agent\n",
    "N_GAMES=200\n",
    "\n",
    "n_wins = 0\n",
    "for k in range(N_GAMES):\n",
    "    score, nmovs, memory = simgame(game, agent, logger_simgame, memory)\n",
    "    if score == 1:\n",
    "        n_wins += 1\n",
    "    if (k+1)%10 == 0:\n",
    "        perc = n_wins/(k+1)*100\n",
    "        agent.replay(memory.ltmemory)\n",
    "        print(\"%d games played, %d won (%.2f %%)\" % (k+1, n_wins, perc))"
   ]
  },
  {
   "cell_type": "code",
   "execution_count": null,
   "metadata": {},
   "outputs": [],
   "source": []
  }
 ],
 "metadata": {
  "kernelspec": {
   "display_name": "Python 3",
   "language": "python",
   "name": "python3"
  },
  "language_info": {
   "codemirror_mode": {
    "name": "ipython",
    "version": 3
   },
   "file_extension": ".py",
   "mimetype": "text/x-python",
   "name": "python",
   "nbconvert_exporter": "python",
   "pygments_lexer": "ipython3",
   "version": "3.5.3"
  }
 },
 "nbformat": 4,
 "nbformat_minor": 2
}
